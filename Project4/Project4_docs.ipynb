{
 "cells": [
  {
   "cell_type": "markdown",
   "id": "de70e2b9",
   "metadata": {},
   "source": [
    "## Project 4: convex hull"
   ]
  },
  {
   "cell_type": "markdown",
   "id": "d34eb20a",
   "metadata": {},
   "source": [
    "### 1. Algorithms used:\n",
    "- Naive algorithm:\n",
    "    - $\\text{Time complicity: } O(n^3), n = \\text{number of points}$\n",
    "- Gift wrapping algorithm:\n",
    "    - $\\text{Time complicity (average): } O(n*h), \\text{where n - number of points; h: number of convex hull points ~= }O(n*log(n))$\n",
    "    - $\\text{Time complicity (worst case): } O(n^2)$\n",
    "    "
   ]
  },
  {
   "cell_type": "markdown",
   "id": "7d2a0f93",
   "metadata": {},
   "source": [
    "### 2. Project implementation\n",
    "#### 2.1 Project structure\n",
    "- $\\text{/test_data/ }$: Test cases & algorithm execution results\n",
    "- $\\text{__init__.py}$ - module initialization\n",
    "- $\\text{gui.py}$ - GUI implementation, visualization of gift wrapping algorithm\n",
    "- $\\text{project4.py}$ - Algorithms implementation (convex hull, gift wrapping); main() entrypoint of the project; Test data generator (TestCases)\n",
    "- $\\text{project4_test.py}$ - main(): generate tests & write using the class TestOutputWriter"
   ]
  },
  {
   "cell_type": "markdown",
   "id": "27c0e068",
   "metadata": {},
   "source": [
    "2.2 Short description of python modules\n",
    "- $\\text{gui.py}$:\n",
    "  - class DisplayConvexHullResults:\n",
    "      - A pygame-based graphical interface to display the results of a given convex hull algorithm\n",
    "      1. method init_bbox: init bounding box & scale for a given set of points\n",
    "      2. setup: setup pygame screen & hotkeys\n",
    "      3. draw(): display results\n",
    "      4. _draw(surface): draw self in a given surface\n",
    "      5. set_data(points, convex hull): update data & clear cache\n",
    "  - main:\n",
    "    - display a set of points and segments (convex hull) - gui test\n",
    "- $\\text{project4.py}$:\n",
    "  - method find_convex_hull_naive:\n",
    "      - Naive convex hull algorithm (defined in section 1.)\n",
    "  - method - $\\text{orientation}$:\n",
    "      - returns:\n",
    "        - 0: Collinear points\n",
    "        - 1: Clockwise angle\n",
    "        - 2: Counterclockwise angle\n",
    "  - method - $\\text{find_convex_hull_giftwrap}$:\n",
    "    - Gift wrapping convex hull algorithm (defined in section 1.)\n",
    "  - class - $\\text{TestCases}$:\n",
    "    - method generate_linear(count):\n",
    "      - generate random points on a random line\n",
    "    - method $\\text{generate_linear_with_repeating_points}$:\n",
    "      - generate points on a line with repeating points\n",
    "    - method _rand: \n",
    "      - random number generator (normal distribution)\n",
    "    - method generate_normal:\n",
    "      - generate points distributed according to a given 2-D distribution (normal x uniform etc)\n",
    "    - generate_with_repeating_points:\n",
    "      - equal to the previous method, but the output data contains repeating points\n",
    "    - log_exec_time:\n",
    "      - log execution time to a TestOutputWriter object\n",
    "    - test_algorithm_correctness:\n",
    "      - namely, execute a convex hull algorithm and write output to file\n",
    "    - test_giftwrap_algorithm_correctness:\n",
    "      - re-definition of the above method for gift-wrapping algorithm\n",
    "    - test_naive_algorithm_correctness:\n",
    "      - re-definition of the above method for naive algorithm\n",
    "  - method - $\\text{main}$:\n",
    "    - test algorithm correctness for a generated set of points & print output to file\n",
    "  - method - $\\text{sub}$:\n",
    "    - read points from file\n",
    "    - use Shapely.Polygon object to get the convex hull\n",
    "    - compare algorithm results (must be equal)\n",
    "  - method - $\\text{sub_gui}$:\n",
    "    - generate points & find convex hull\n",
    "    - create a GUI instance to display the results\n",
    "  - method - $\\text{__main__}$:\n",
    "    - prompt: test/gui\n",
    "- $\\text{project4_test.py}$:\n",
    "  - method - $\\text{__main__}$:\n",
    "    - generate points & find convex hull\n",
    "    - write test results to file"
   ]
  },
  {
   "cell_type": "markdown",
   "id": "4dd7a12a",
   "metadata": {},
   "source": [
    "![normal](./images/im1.png)"
   ]
  },
  {
   "cell_type": "markdown",
   "id": "25d20370",
   "metadata": {},
   "source": [
    "![normal-expon](./images/im2.png)"
   ]
  },
  {
   "cell_type": "markdown",
   "id": "bba28705",
   "metadata": {},
   "source": [
    "![](./images/im3.png)"
   ]
  },
  {
   "cell_type": "markdown",
   "id": "d70cea16",
   "metadata": {},
   "source": [
    "![](./images/im4.png)"
   ]
  }
 ],
 "metadata": {
  "kernelspec": {
   "display_name": "Python 3 (ipykernel)",
   "language": "python",
   "name": "python3"
  },
  "language_info": {
   "codemirror_mode": {
    "name": "ipython",
    "version": 3
   },
   "file_extension": ".py",
   "mimetype": "text/x-python",
   "name": "python",
   "nbconvert_exporter": "python",
   "pygments_lexer": "ipython3",
   "version": "3.10.7"
  }
 },
 "nbformat": 4,
 "nbformat_minor": 5
}
