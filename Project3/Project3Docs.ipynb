{
 "cells": [
  {
   "cell_type": "markdown",
   "id": "cc3f9d5f",
   "metadata": {},
   "source": [
    "# Project 3: Documentation"
   ]
  },
  {
   "cell_type": "markdown",
   "id": "5dcc9968",
   "metadata": {},
   "source": [
    "## Project structure"
   ]
  },
  {
   "cell_type": "markdown",
   "id": "6b4d18ff",
   "metadata": {},
   "source": [
    "- $\\textbf{/graphics/...} : \\text{Graphics path}$\n",
    "    - $\\textbf{/hex/...} : \\text{Hex class sprites}$\n",
    "        - $\\textbf{desert0.png} - \\text{desert hex type sprite}$\n",
    "        - $\\textbf{mountains0-1.png} - \\text{mountain sprites}$\n",
    "        - $\\textbf{plains0-2.png} - \\text{plains sprite}$\n",
    "        - $\\textbf{sea0.png} - \\text{sea sprite}$\n",
    "    - $\\textbf{HexMap }\\text{ class sprites}$\n",
    "        - $\\textbf{map.png} - \\text{ map sprite}$\n",
    "- $\\textbf{(module) hex_map.py} - \\text{the HexMap implementation}$\n",
    "    - $\\textbf{Classes}:$\n",
    "        - $\\textbf{ImagePolygon}-\\text{implementation of polygon interface based on a given image and a bounding rectangle (implements hex_type_by_point)}$\n",
    "        - $\\textbf{Cache} - \\text{a class for caching pygame Surfaces. Not used in the project.}$\n",
    "        - $\\textbf{Hex} - \\text{implementation of an individual Hex on the HexMap}$\n",
    "        - $\\textbf{HexMap} - \\text{a class representing the map of hexes}$\n",
    "- $\\textbf{(module) project3.py} - \\text{main entrypoint of the project}$\n",
    "    - $\\textbf{Classes:}$\n",
    "        - $\\textbf{CountDownLatch} - \\text{implementation of threading synchronizer, countdown latch}$\n",
    "        - $\\textbf{ProjectHexMap} - \\text{the main class of the project}$\n"
   ]
  },
  {
   "cell_type": "markdown",
   "id": "e2880624",
   "metadata": {},
   "source": [
    "## Classes"
   ]
  },
  {
   "cell_type": "markdown",
   "id": "9ecfa3f6",
   "metadata": {},
   "source": [
    "- $\\text{Class } \\textbf{Hex}\\text{:}$\n",
    "    - ![title](docs/im1.png)\n",
    "    - $\\textbf{(method) get_surface_by_hex_type}:$\n",
    "        - ![title](docs/im2.png)\n",
    "        - Get Hex sprite by hex type (desert/plains/mountains/sea)\n",
    "        - double-check locking is used (lazy init)\n",
    "    - $\\textbf{(method) draw_arrow}:$\n",
    "        - ![title](docs/im3.png)\n",
    "        - Draw an arrow pointing to a neighbouring Hex\n",
    "    \n",
    "    - $\\textbf{(method) type_from_color}:$\n",
    "        - ![title](docs/im4.png)\n",
    "        - Determine Hex type based on the RGB value of a pixel\n",
    "    \n",
    "    - $\\textbf{(method) bbox}:$\n",
    "        - ![title](docs/im5.png)\n",
    "        - Find bounding box of a set of points\n",
    "    \n",
    "    - $\\textbf{(method) fit_surface_in_hexagon}:$\n",
    "        - ![title](docs/im6.png)\n",
    "        - Fit a surface (a Hex sprite) in a given Hex\n",
    "    \n",
    "    - $\\textbf{(method) draw}:$\n",
    "        - ![title](docs/im7.png)\n",
    "        - Draw Hex object on a pygame.Surface\n",
    "    \n",
    "    - $\\textbf{(method) getHexCoordsByCenterCoords}:$\n",
    "        - ![title](docs/im8.png)\n",
    "        - Get Coordinates of Hex vertices by its center coordinates\n",
    "    \n",
    "    - $\\textbf{(method) isContainedInPolygon}:$\n",
    "        - ![title](docs/im9.png)\n",
    "        - Checks if a Hex is contained in a Polygon\n",
    "    \n",
    "    - $\\textbf{(method) createNeighbour}:$\n",
    "        - ![title](docs/im10.png)\n",
    "        - Add a new Hex (neighbouring to another Hex) to the HexMap\n",
    "        - The location of the neighbour: (left/right/left upper/right upper/left bottom/right bottom)\n",
    "    \n",
    "    - $\\textbf{(method) transform}:$\n",
    "        - ![title](docs/im11.png)\n",
    "        - Transform coordinates in the Hex basis to coordinates in 2D basis"
   ]
  },
  {
   "cell_type": "markdown",
   "id": "a77608b0",
   "metadata": {},
   "source": [
    "- $\\text{Class } \\textbf{HexMap}\\text{:}$\n",
    "    - ![title](docs/2/2/im12.png)\n",
    "    - $\\textbf{(method) init_map_poly}:$\n",
    "        - ![title](docs/2/im12_0.png)\n",
    "        - Init the Map polygon (location on the screen etc)\n",
    "    \n",
    "    - $\\textbf{(method) is_preparing}:$\n",
    "        - ![title](docs/2/im13.png)\n",
    "        - Check if any rendering threads are alive\n",
    "        \n",
    "    - $\\textbf{(method) prepare}:$\n",
    "        - ![title](docs/2/im14.png)\n",
    "        - Prepare self for drawing\n",
    "        - fill map polygon with hexes\n",
    "        - initialize the _cached_surface if it is None\n",
    "        - initialize rendering threads\n",
    "    \n",
    "    - $\\textbf{(method) draw}:$\n",
    "        - ![title](docs/2/im15.png)\n",
    "        - draw the HexMap in a pygame.Surface\n",
    "    \n",
    "    - $\\textbf{(methods) clear/zoom_in/zoom_out/move}:$\n",
    "        - ![title](docs/2/im16.png)\n",
    "        - Clear/zoom in/zoom out/move the HexMap\n",
    "    \n",
    "    - $\\textbf{(method) _fillMapRectangleWithHexes}:$\n",
    "        - ![title](docs/2/im17.png)\n",
    "        - Create Hex objects & build the HexMap\n"
   ]
  },
  {
   "cell_type": "markdown",
   "id": "4397913a",
   "metadata": {},
   "source": []
  },
  {
   "cell_type": "code",
   "execution_count": null,
   "id": "9fe5c7c9",
   "metadata": {},
   "outputs": [],
   "source": []
  }
 ],
 "metadata": {
  "kernelspec": {
   "display_name": "Python 3 (ipykernel)",
   "language": "python",
   "name": "python3"
  },
  "language_info": {
   "codemirror_mode": {
    "name": "ipython",
    "version": 3
   },
   "file_extension": ".py",
   "mimetype": "text/x-python",
   "name": "python",
   "nbconvert_exporter": "python",
   "pygments_lexer": "ipython3",
   "version": "3.10.7"
  }
 },
 "nbformat": 4,
 "nbformat_minor": 5
}
