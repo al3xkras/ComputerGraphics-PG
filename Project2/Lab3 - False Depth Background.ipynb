{
 "cells": [
  {
   "cell_type": "markdown",
   "id": "058e36b1",
   "metadata": {},
   "source": [
    " "
   ]
  },
  {
   "cell_type": "markdown",
   "id": "08b541c7",
   "metadata": {},
   "source": [
    "<div style=\"text-align: center; font-size: 24px; margin-top:500px\">$\\text{Project 3 : False Depth Background}$</div>"
   ]
  },
  {
   "cell_type": "markdown",
   "id": "e2417591",
   "metadata": {},
   "source": [
    "<div style=\"text-align: center; font-size: 16px; margin-top: 100px\">$\\small{\\textit{by: Alexander Krasovskiy, Aleksander Kaluta}}$</div>"
   ]
  },
  {
   "cell_type": "markdown",
   "id": "cd920c5a",
   "metadata": {},
   "source": [
    "<div style=\"text-align: center; font-size: 14px; margin-top: 5px; margin-bottom: 200px\">$\\small{\\textit{November 17, 2022}}$</div>"
   ]
  },
  {
   "cell_type": "markdown",
   "id": "d9bd2bf1",
   "metadata": {},
   "source": [
    "<div  style=\"margin-top: 200px\"></div>\n",
    "\n",
    "## Project structure:\n",
    "<div>\n",
    "    <br>\n",
    "    <dir style=\"margin-left:-30px\"><b>Lab3/</b> (classpath, PATH)\n",
    "        <dir><b>graphics/ </b>(Graphics path)\n",
    "            <dir>$\\small{\\text{star_i.png, i = }\\overline{\\text{1,5}}}\\textbf{ - Star sprites}$</dir>\n",
    "            <dir>$\\small{\\text{spaceship.png}\\textbf{ - Player sprite}}$</dir>\n",
    "            <dir>$\\small{\\text{contestant_spaceship.png}\\textbf{ - Contestant player sprite}}$</dir>\n",
    "        </dir>\n",
    "         <dir>lab3.py - <b>Main module of the project</b></dir>\n",
    "         <dir>background.py - <b>False Depth Background implementation</b></dir>\n",
    "         <dir>spacecraft.py - <b>Spaceship implementation</b></dir>\n",
    "    </dir>\n",
    "</div>\n",
    "<div  style=\"margin-top: 100px\"></div>\n",
    "\n",
    "## Classes:\n",
    "<div style=\"margin-top: 20px\">\n",
    "    <dir style=\"margin-left:-30px\">\n",
    "        <dir>\n",
    "        $\\textbf{CountDownLatch}$: simple implementation of multithreading synchronizer CountDownLatch\n",
    "        </dir>\n",
    "        <dir>\n",
    "        $\\textbf{SpaceshipInfo}\\text{ - an object for displaying the general spaceship info (warp speed etc)}$\n",
    "        </dir>\n",
    "        <dir>\n",
    "        $\\textbf{Lab3}\\text{ - the Main module of the project}$\n",
    "        </dir>\n",
    "        <dir>\n",
    "        $\\textbf{Stars}\\text{ - an object for drawing stars on a given canvas, i.e. }\\textbf{pygame.Surface}$\n",
    "        </dir>\n",
    "        <dir>\n",
    "        $\\textbf{FalseDepthBackground}\\text{ - the actual False Depth background object. Is instantiated by the Lab3() module}$\n",
    "        </dir>\n",
    "        <dir>\n",
    "        $\\textbf{Spacecraft}\\text{ - a class representing a Spacecraft. Is instantiated by the Lab3() module}$\n",
    "        </dir>\n",
    "    </dir>\n",
    "</div>\n",
    "<div  style=\"margin-top: 100px\"></div>\n",
    "\n",
    "## Threads:\n",
    "<div style=\"margin-top: 20px\">\n",
    "    <dir style=\"margin-left:-30px\">\n",
    "        <dir>\n",
    "        $\\textbf{Main Thread}$: simple implementation of multithreading synchronizer CountDownLatch\n",
    "        </dir>\n",
    "        <dir>\n",
    "        $\\textbf{Hotkey thread (daemon)}\\text{ - a daemon thread for handling keyboard key events (q/Q etc)}$\n",
    "        </dir>\n",
    "    </dir>\n",
    "</div>"
   ]
  },
  {
   "cell_type": "markdown",
   "id": "97932d44",
   "metadata": {},
   "source": [
    "<div  style=\"margin-top: 100px\"></div>\n",
    "\n",
    "## <div style=\"text-align: center; font-size: 24px\">Implementation description</div>"
   ]
  },
  {
   "cell_type": "markdown",
   "id": "9746927b",
   "metadata": {},
   "source": [
    "\n",
    "<ul style=\"list-style-type: none\">\n",
    "    <li style = \"margin-bottom: 10px\">\n",
    "        <div  style=\"margin-top: 30px\"></div>\n",
    "        $\\large{\\text{FalseDepthBackground}}:$\n",
    "        <br><img src = \"img/fd_init.png\">\n",
    "        <ul class=\"parameters_ul\">\n",
    "            <li>Param <b>layer count</b>: $\\text{(min = 2: count of false depth layers)}$</li>\n",
    "            <li>Param <b>initial speed</b>: $\\text{initial spaceship }\\&\\text{ background speed}$</li>\n",
    "            <li>Param <b>background depth</b>: $\\text{Describes the background depth (i.e. distance to the last layer in pixels)}$</li>\n",
    "            <li>Method <b>_update_layer_params()</b> $\\text{update layers after parameters change}$</li>\n",
    "            <li>Method <b>reverse()</b> $\\text{ - reverse movement}$</li>\n",
    "        </ul>\n",
    "    </li>\n",
    "    <li style = \"margin-bottom: 10px\">\n",
    "        <div  style=\"margin-top: 30px\"></div>\n",
    "        $\\large{\\text{Stars}}:$\n",
    "        <br><img src = \"img/stars_index.png\" style=\"margin-left:-0px\">\n",
    "        <ul>\n",
    "            <li>Static param <b>star_size</b> $\\text{ - star size in pixels}$</li>\n",
    "            <li>Static param <b>max_sprite_index</b> $\\text{ - max sprite index depending on the background movement speed (star1-star5)}$</li>\n",
    "            <li>Static method <b>index()</b> $\\text{ - index star sprite depending on the movenent speed (star1-star5)}$</li>\n",
    "            <li style=\"list-style-type: none\">\n",
    "                <img src = \"img/stars_init.png\" style=\"margin-left:-30px\">\n",
    "            </li>\n",
    "            <li>Method <b>__init__()</b> $\\text{args: }\\textbf{distance}\\text{ - layer distance (Depth) in pixels; }\\textbf{count}\\text{: count of stars to generate}$</li>\n",
    "            <li>Method <b>_load_sprites()</b> $\\text{load star sprites depending on the background depth and speed}$</li>\n",
    "            <li>Method <b>draw()</b> $\\text{ - draw the stars on a given canvas (pygame.Surface)}$</li>\n",
    "        </ul>\n",
    "    </li>\n",
    "    <li style = \"margin-bottom: 10px\">\n",
    "        <div  style=\"margin-top: 30px\"></div>\n",
    "        $\\large{\\text{Spacecraft}}:$\n",
    "        <br><img src = \"img/spacecraft_init.png\" style=\"margin-left:-0px\">\n",
    "        <ul>\n",
    "            <li>Method <b>__init__()</b> $\\text{x,y - initial coordinates; sprite - spaceship sprite name;}$</li>\n",
    "            <li>Method <b>_load_spaceship()</b> $\\text{ - load }\\&\\text{ resize spaceship sprite}$</li>\n",
    "            <li>Method <b>draw()</b> $\\text{draw self on a given canvas (pygame.Surface)}$</li>\n",
    "        </ul>\n",
    "    </li>\n",
    "</ul>"
   ]
  },
  {
   "cell_type": "markdown",
   "id": "69091c15",
   "metadata": {},
   "source": [
    "<div  style=\"margin-top: 100px\"></div>\n",
    "\n",
    "## <div style=\"text-align: center; font-size: 24px\">Hotkeys</div>"
   ]
  },
  {
   "cell_type": "markdown",
   "id": "9bda90fe",
   "metadata": {},
   "source": [
    "<ul style=\"\">\n",
    "    <dl>$\\textbf{ left / num+6}\\space\\space\\space-\\space\\space\\space\\text{speed up (warp+=1)}$</dl>\n",
    "    <dl>$\\textbf{ right / num+4}\\space\\space\\space-\\space\\space\\space\\text{slow down (warp-=1)}$</dl>\n",
    "    <dl>$\\textbf{ num+5}\\space\\space\\space-\\space\\space\\space \\text{stop (warp=0)}$</dl>\n",
    "    <dl>$\\textbf{ q / Q}\\space\\space\\space-\\space\\space\\space \\text{Exit } \\& \\text{ close the pygame window}$</dl>\n",
    "    <li style = \"list-style-type: none\">\n",
    "        <br><img src = \"img/hotkeys.png\" style=\"margin-left:-0px\">\n",
    "    </li>\n",
    "</ul>\n"
   ]
  },
  {
   "cell_type": "markdown",
   "id": "ae21c5a4",
   "metadata": {},
   "source": [
    "<div  style=\"margin-top: 100px\"></div>\n",
    "\n",
    "### Q: Why is the multithreading approach used for the project implementation?\n",
    "Ans: <p>Below, pros and cons of the multithreading approach are shown:<p>\n",
    "<b>- Pros</b>\n",
    "<ol>\n",
    "    <li>Handle key events in the background</li>\n",
    "    <li>Make the rendering process independent (avoid freezes)</li>\n",
    "    <li>The code is more reusable and easier to modify</li>\n",
    "    <li>Rendering $\\&$ keyevent handling aspects are separated</li>\n",
    "</ol> \n",
    "<b>- Cons</b>\n",
    "<ol>\n",
    "    <li>Thread synchronization is required on key press <b>q/Q</b></li>\n",
    "</ol> \n",
    "\n",
    "<br>\n",
    "=> It is reasonable to use multithreading for this task."
   ]
  },
  {
   "cell_type": "markdown",
   "id": "04f2ee35",
   "metadata": {},
   "source": [
    "<div  style=\"margin-top: 100px\"></div>\n",
    "\n",
    "### Q: How are the project threads synchronized?\n",
    "Answer:<br>\n",
    "For the problem, defined above <b>(i.e. the Thread synchronization on key press q/Q</b>), <br>\n",
    "We used a synchronizer called CountDownLatch:\n",
    "<ul style=\"list-style-type:square\">\n",
    "    <li>When <b>q/Q</b> is pressed, the daemon thread responsible for handling keyevents calls CountDownLatch.awaitCountDownMethod(), <br>to wait until the rendering process is finished</li>\n",
    "    <li>The mainloop of the class Lab3 completes rendering, and the CountDownLatch.countDown() method is called<br></li>\n",
    "    <li>Keyevent thread is released, and <b>exit()</b> method of the class Lab3 is executed</li>\n",
    "    <li>The main thread is stopped</li>\n",
    "    <li>The Keyevent thread is automatically stopped, considering its definition as the <b>daemon</b> thread</li>\n",
    "    <li>Exit is successfully completed</li>\n",
    "</ul> "
   ]
  },
  {
   "cell_type": "markdown",
   "id": "6af32097",
   "metadata": {},
   "source": [
    "<div  style=\"margin-top: 100px\"></div>\n",
    "\n",
    "## <div style=\"text-align: center; font-size: 24px\">False Depth Background Demo</div>"
   ]
  },
  {
   "cell_type": "markdown",
   "id": "d372d47c",
   "metadata": {},
   "source": [
    "\n",
    "<img src=\"img/demo1.png\" style=\"width: 100%\"/>\n",
    "<img src=\"img/demo2.png\" style=\"width: 100%\" />\n",
    "<img src=\"img/demo3.png\" style=\"width: 100%\"/>\n",
    "<img src=\"img/demo4.png\" style=\"width: 100%\"/>"
   ]
  },
  {
   "cell_type": "code",
   "execution_count": null,
   "id": "62ed6aee",
   "metadata": {},
   "outputs": [],
   "source": []
  }
 ],
 "metadata": {
  "kernelspec": {
   "display_name": "Python 3 (ipykernel)",
   "language": "python",
   "name": "python3"
  },
  "language_info": {
   "codemirror_mode": {
    "name": "ipython",
    "version": 3
   },
   "file_extension": ".py",
   "mimetype": "text/x-python",
   "name": "python",
   "nbconvert_exporter": "python",
   "pygments_lexer": "ipython3",
   "version": "3.10.7"
  }
 },
 "nbformat": 4,
 "nbformat_minor": 5
}
